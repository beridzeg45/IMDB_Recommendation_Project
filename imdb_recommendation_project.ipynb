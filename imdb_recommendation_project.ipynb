{
 "cells": [
  {
   "cell_type": "code",
   "execution_count": 1,
   "metadata": {},
   "outputs": [],
   "source": [
    "from selenium import webdriver\n",
    "from selenium.webdriver.support.wait import WebDriverWait\n",
    "from selenium.webdriver.support import expected_conditions\n",
    "from selenium.webdriver.common.by import By\n",
    "from selenium.webdriver.common.keys import Keys\n",
    "from selenium.webdriver.common.action_chains import ActionChains\n",
    "from selenium.webdriver.support.ui import Select\n",
    "\n",
    "from bs4 import BeautifulSoup\n",
    "import requests\n",
    "import time\n",
    "import datetime as dt \n",
    "import pandas as pd\n",
    "\n",
    "import pickle\n",
    "import os\n",
    "\n",
    "headers = {\n",
    "    'User-Agent': 'Mozilla/5.0 (Windows NT 10.0; Win64; x64) AppleWebKit/537.36 (KHTML, like Gecko) Chrome/58.0.3029.110 Safari/537.3'}"
   ]
  },
  {
   "cell_type": "code",
   "execution_count": 2,
   "metadata": {},
   "outputs": [],
   "source": [
    "path=r'D:\\python data\\movie_recommendation_project'"
   ]
  },
  {
   "cell_type": "code",
   "execution_count": 3,
   "metadata": {},
   "outputs": [],
   "source": [
    "driver=webdriver.Edge()\n",
    "driver.maximize_window()"
   ]
  },
  {
   "cell_type": "markdown",
   "metadata": {},
   "source": [
    "urls=[]\n",
    "for year in range(1900,2024,1):\n",
    "    url=f'https://www.imdb.com/search/title/?title_type=feature&release_date={year}-01-01,{year}-12-31&user_rating=1,10&num_votes=100,'\n",
    "    urls.append(url)"
   ]
  },
  {
   "cell_type": "markdown",
   "metadata": {},
   "source": [
    "max_year=0\n",
    "for file in os.listdir(path):\n",
    "    if 'all_movie_urls_' in file:\n",
    "        year=int(file.split('all_movie_urls_')[-1].split('.pickle')[0])\n",
    "        if year>max_year:\n",
    "            max_year=year\n",
    "print(max_year)"
   ]
  },
  {
   "cell_type": "markdown",
   "metadata": {},
   "source": [
    "all_movie_urls=[]\n",
    "\n",
    "for url in urls:\n",
    "    year=str(url).split('release_date=')[-1].split('-')[0]\n",
    "    if int(year)<=max_year:\n",
    "        continue\n",
    "\n",
    "    driver.get(url)\n",
    "    time.sleep(3)\n",
    "\n",
    "    while True:   \n",
    "        driver.execute_script(\"window.scrollTo(0, document.body.scrollHeight);\")\n",
    "\n",
    "        try:\n",
    "            load_more_button=WebDriverWait(driver,10).until(expected_conditions.element_to_be_clickable((By.CSS_SELECTOR,'button[class=\"ipc-btn ipc-btn--single-padding ipc-btn--center-align-content ipc-btn--default-height ipc-btn--core-base ipc-btn--theme-base ipc-btn--on-accent2 ipc-text-button ipc-see-more__button\"]')))\n",
    "            driver.execute_script('arguments[0].scrollIntoView();',load_more_button)\n",
    "            driver.execute_script('arguments[0].click();',load_more_button)\n",
    "            time.sleep(3)\n",
    "        except:\n",
    "            break\n",
    "\n",
    "    url_elements=driver.find_elements(By.CSS_SELECTOR,'div[class=\"ipc-page-grid__item ipc-page-grid__item--span-2\"] li a[class=\"ipc-title-link-wrapper\"]')\n",
    "    \n",
    "    for url_element in url_elements:\n",
    "        all_movie_urls.append(url_element.get_attribute('href'))\n",
    "    pickle.dump(all_movie_urls,open(os.path.join(path,f'all_movie_urls_{year}.pickle'),'wb'))\n",
    "    all_movie_urls=[]\n",
    "    \n",
    "\n",
    "    print(url,end='\\r')\n"
   ]
  },
  {
   "cell_type": "markdown",
   "metadata": {},
   "source": [
    "all_movie_urls=[]\n",
    "for file in os.listdir(path):\n",
    "    if 'all_movie_urls' in file:\n",
    "        data=pickle.load(open(os.path.join(path,file),'rb'))\n",
    "        all_movie_urls=all_movie_urls+data\n",
    "        print(file,end='\\r')\n",
    "\n",
    "all_movie_urls=list(set(all_movie_urls))\n",
    "all_movie_urls=sorted(all_movie_urls)\n",
    "pickle.dump(all_movie_urls,open(os.path.join(path,'all_movie_urls.pickle'),'wb'))"
   ]
  },
  {
   "cell_type": "code",
   "execution_count": null,
   "metadata": {},
   "outputs": [],
   "source": [
    "all_movie_urls=pickle.load(open(os.path.join(path,'all_movie_urls.pickle'),'rb'))\n",
    "len(all_movie_urls)"
   ]
  },
  {
   "cell_type": "code",
   "execution_count": 5,
   "metadata": {},
   "outputs": [],
   "source": [
    "def return_movie_info(movie_url):  \n",
    "\n",
    "    try:\n",
    "        driver.get(movie_url)\n",
    "        driver.execute_script(\"window.scrollTo(0, document.body.scrollHeight);\")\n",
    "    except:\n",
    "        pass\n",
    "    \n",
    "    try:\n",
    "        poster=driver.find_element(By.CSS_SELECTOR,'div[class=\"ipc-poster ipc-poster--baseAlt ipc-poster--dynamic-width ipc-sub-grid-item ipc-sub-grid-item--span-2\"] img').get_attribute('src')\n",
    "    except:\n",
    "        poster=None\n",
    "\n",
    "    try:\n",
    "        movie_title=driver.find_element(By.CSS_SELECTOR,'div[class=\"sc-b7c53eda-0 dUpRPQ\"] h1[data-testid=\"hero__pageTitle\"]').text.replace('\\n','')\n",
    "    except:\n",
    "        movie_title=None\n",
    "\n",
    "    try:\n",
    "        year=driver.find_element(By.CSS_SELECTOR,'ul[class=\"ipc-inline-list ipc-inline-list--show-dividers sc-d8941411-2 cdJsTz baseAlt\"]').text\n",
    "    except:\n",
    "        year=None\n",
    "\n",
    "    try:\n",
    "        rating=driver.find_element(By.CSS_SELECTOR,'div[class=\"sc-bde20123-0 dLwiNw\"]').text\n",
    "    except:\n",
    "        rating=None\n",
    "\n",
    "    try:\n",
    "        summary=driver.find_element(By.CSS_SELECTOR,'div[data-testid=\"storyline-plot-summary\"]').text.replace('\\n','')\n",
    "    except:\n",
    "        summary=None\n",
    "\n",
    "    try:\n",
    "        plot=driver.find_element(By.CSS_SELECTOR,'p[data-testid=\"plot\"]').text.replace('\\n','')\n",
    "    except:\n",
    "        plot=None\n",
    "\n",
    "    try:\n",
    "        director=driver.find_element(By.CSS_SELECTOR,'div[class=\"sc-b7c53eda-3 vXcqY\"]').text\n",
    "    except:\n",
    "        director=None\n",
    "\n",
    "    try:\n",
    "        genres=driver.find_element(By.CSS_SELECTOR,'div[data-testid=\"genres\"]').text\n",
    "    except:\n",
    "        genres=None\n",
    "    \n",
    "    info_dict={'Movie URL':movie_url,'Title':movie_title,'Poster':poster,'Year':year,'Rating':rating,'Summary':summary,'Plot':plot,'Director':director,'Genres':genres}\n",
    "    return info_dict"
   ]
  },
  {
   "cell_type": "code",
   "execution_count": 7,
   "metadata": {},
   "outputs": [
    {
     "name": "stdout",
     "output_type": "stream",
     "text": [
      "397\r"
     ]
    }
   ],
   "source": [
    "all_data=[]\n",
    "\n",
    "for i,movie_url in enumerate(all_movie_urls,start=1):\n",
    "    info_dict=return_movie_info(movie_url)\n",
    "    all_data.append(info_dict)\n",
    "\n",
    "    if i%1000==0 or i==len(all_data):\n",
    "        pickle.dump(all_data,open(os.path.join(path,f'all_data_{i}'),'wb'))\n",
    "        all_data=[]\n",
    "\n",
    "    print(i,end='\\r')\n",
    "\n"
   ]
  },
  {
   "cell_type": "code",
   "execution_count": null,
   "metadata": {},
   "outputs": [],
   "source": []
  }
 ],
 "metadata": {
  "kernelspec": {
   "display_name": "Python 3",
   "language": "python",
   "name": "python3"
  },
  "language_info": {
   "codemirror_mode": {
    "name": "ipython",
    "version": 3
   },
   "file_extension": ".py",
   "mimetype": "text/x-python",
   "name": "python",
   "nbconvert_exporter": "python",
   "pygments_lexer": "ipython3",
   "version": "3.11.3"
  }
 },
 "nbformat": 4,
 "nbformat_minor": 2
}
